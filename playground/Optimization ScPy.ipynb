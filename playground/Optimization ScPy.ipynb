{
 "cells": [
  {
   "cell_type": "code",
   "execution_count": 1,
   "id": "53ede81f",
   "metadata": {},
   "outputs": [],
   "source": [
    "from scipy.optimize import minimize\n",
    "import pandas as pd\n",
    "import copy\n",
    "\n",
    "\n"
   ]
  },
  {
   "cell_type": "code",
   "execution_count": null,
   "id": "0c44e16c",
   "metadata": {},
   "outputs": [],
   "source": [
    "def getSpin(L1,var):\n",
    "    a, b = L1\n",
    "    L2,d = var\n",
    "    return - (a+b)*L2+d\n",
    "    \n",
    "a = 1\n",
    "b = 2\n",
    "\n",
    "\n",
    "x0=(a,b)# your initial guess\n",
    "bounds=((0,0.221),(2,5)) # the minimum and maximum values for each parameter\n",
    "var = (1,1)\n",
    "res=minimize(getSpin,x0,method='SLSQP',args=(var,),bounds=bounds,tol=1e-10) \n",
    "#res.x contains the optimized values for L1,L2 and d \n",
    "res"
   ]
  },
  {
   "cell_type": "code",
   "execution_count": null,
   "id": "cc5176b8",
   "metadata": {},
   "outputs": [],
   "source": [
    "a=(1,2)\n",
    "b,c=a"
   ]
  },
  {
   "cell_type": "code",
   "execution_count": null,
   "id": "f3751868",
   "metadata": {},
   "outputs": [],
   "source": [
    "c"
   ]
  },
  {
   "cell_type": "code",
   "execution_count": null,
   "id": "e2dd62ce",
   "metadata": {},
   "outputs": [],
   "source": [
    "d = {'col1': [1, 2], 'col2': [3, 4]}\n",
    "a = pd.DataFrame(data=d)\n",
    "a.tail(1)"
   ]
  },
  {
   "cell_type": "code",
   "execution_count": null,
   "id": "dba67bc9",
   "metadata": {},
   "outputs": [],
   "source": [
    "d = {'col1': [5, 6], 'col2': [7, 8]}\n",
    "b = pd.DataFrame(data=d)\n",
    "\n",
    "\n",
    "b = copy.copy(a)"
   ]
  },
  {
   "cell_type": "code",
   "execution_count": null,
   "id": "368347f3",
   "metadata": {},
   "outputs": [],
   "source": [
    "a.equals(b)"
   ]
  },
  {
   "cell_type": "code",
   "execution_count": null,
   "id": "3c6f8d8a",
   "metadata": {},
   "outputs": [],
   "source": [
    "df2 = pd.DataFrame(columns=['timestamp', 'open', 'high', 'low', 'close'])"
   ]
  },
  {
   "cell_type": "code",
   "execution_count": null,
   "id": "98051c49",
   "metadata": {},
   "outputs": [],
   "source": [
    "df2"
   ]
  },
  {
   "cell_type": "code",
   "execution_count": null,
   "id": "49edc526",
   "metadata": {},
   "outputs": [],
   "source": [
    "json_message = {'t': 1656877080000, 'T': 1656877139999, 's': 'ETHUSDT', 'i': '1m', 'f': 9934342, 'L': 9934343, 'o': '1065.80000000', 'c': '1065.86000000', 'h': '1065.86000000', 'l': '1065.80000000', 'v': '1.55000000', 'n': 2, 'x': True, 'q': '1652.02900000', 'V': '1.55000000', 'Q': '1652.02900000', 'B': '0'} "
   ]
  },
  {
   "cell_type": "code",
   "execution_count": null,
   "id": "dc7adf27",
   "metadata": {},
   "outputs": [],
   "source": [
    "df2['open'] = json_message['o']\n",
    "df2['high']  = json_message['h']\n",
    "df2['low']   = json_message['l']\n",
    "df2['close'] = json_message['c']"
   ]
  },
  {
   "cell_type": "code",
   "execution_count": null,
   "id": "4928db06",
   "metadata": {},
   "outputs": [],
   "source": [
    "json_message['o']"
   ]
  },
  {
   "cell_type": "code",
   "execution_count": null,
   "id": "78188722",
   "metadata": {},
   "outputs": [],
   "source": [
    "df2['open']"
   ]
  },
  {
   "cell_type": "code",
   "execution_count": null,
   "id": "742feec8",
   "metadata": {},
   "outputs": [],
   "source": [
    "import random\n",
    "import copy\n",
    "\n",
    "random.randrange(100000, 999999)"
   ]
  },
  {
   "cell_type": "code",
   "execution_count": null,
   "id": "bc71a569",
   "metadata": {},
   "outputs": [],
   "source": [
    "str(random.randrange(100000, 1000000))"
   ]
  },
  {
   "cell_type": "code",
   "execution_count": null,
   "id": "e9221f10",
   "metadata": {},
   "outputs": [],
   "source": [
    "profit_array = [[2, 20], [3, 20], [4,20], [5,20], [6,20]] #  <====try to optimize\n",
    "profit_array = [[2, 100],]\n",
    "price = 1080.69\n",
    "a=[]\n",
    "for i in profit_array:\n",
    "        a.append([price*(1+i[0]/100),i[1]/100])\n",
    "a"
   ]
  },
  {
   "cell_type": "code",
   "execution_count": null,
   "id": "5d0edbd8",
   "metadata": {},
   "outputs": [],
   "source": [
    "deals_array = pd.DataFrame(columns=\n",
    "                   ['pos_id', 'open_price', 'volume', 'profit_grid', 'status'])"
   ]
  },
  {
   "cell_type": "code",
   "execution_count": null,
   "id": "499a062f",
   "metadata": {},
   "outputs": [],
   "source": [
    "deals_array"
   ]
  },
  {
   "cell_type": "code",
   "execution_count": null,
   "id": "16b561f5",
   "metadata": {},
   "outputs": [],
   "source": [
    "deals_array = pd.DataFrame(columns=['pos_id', 'open_price'])"
   ]
  },
  {
   "cell_type": "code",
   "execution_count": null,
   "id": "c8fdc227",
   "metadata": {},
   "outputs": [],
   "source": []
  },
  {
   "cell_type": "code",
   "execution_count": 326,
   "id": "d55c51da",
   "metadata": {},
   "outputs": [],
   "source": [
    "import numpy as np\n",
    "#open_price = 132\n",
    "#stop_grid\n",
    "\n",
    "df = pd.DataFrame(columns=\n",
    "                   ['pos_id', 'pos_type', 'open_price', 'volume',\n",
    "                    'volume_left', 'profit_grid', 'stop_grid', 'status', 'profit'])\n",
    "\n",
    "\n",
    "aaa = [[128,100],]\n",
    "aab = [[130,50],[127,80],[125,100],]\n",
    "aac = [[134,60],[135,80],[136,100],]\n",
    "\n",
    "#profit_grid\n",
    "aba = [[135,100],]\n",
    "abb = [[134,60],[136,100],]\n",
    "abc = [[129,60],[126,100],]\n",
    "\n",
    "\n",
    "a = {'pos_type': 'short', 'open_price': 132, 'volume': 1,'volume_left': 1, 'profit_grid': [aba], 'stop_grid': [aaa], 'status': 'open', 'profit': 0}\n",
    "b = {'pos_type': 'long', 'open_price': 132, 'volume': 1,'volume_left': 1, 'profit_grid': [abb], 'stop_grid': [aab], 'status': 'open', 'profit':0}\n",
    "c = {'pos_type': 'short', 'open_price': 132, 'volume': 1,'volume_left': 1, 'profit_grid': [abc], 'stop_grid': [aac], 'status': 'open', 'profit':0}\n",
    "\n"
   ]
  },
  {
   "cell_type": "code",
   "execution_count": 327,
   "id": "a46e763e",
   "metadata": {},
   "outputs": [],
   "source": [
    "#df = pd.DataFrame(a,index=[0])\n",
    "df2 = pd.DataFrame(b,index=[0])\n",
    "df3 = pd.DataFrame(c,index=[0])\n",
    "df = pd.concat([df,df2], sort=False, ignore_index=True)\n",
    "df = pd.concat([df,df3], sort=False, ignore_index=True)"
   ]
  },
  {
   "cell_type": "code",
   "execution_count": 328,
   "id": "5b1ab42c",
   "metadata": {},
   "outputs": [
    {
     "data": {
      "text/html": [
       "<div>\n",
       "<style scoped>\n",
       "    .dataframe tbody tr th:only-of-type {\n",
       "        vertical-align: middle;\n",
       "    }\n",
       "\n",
       "    .dataframe tbody tr th {\n",
       "        vertical-align: top;\n",
       "    }\n",
       "\n",
       "    .dataframe thead th {\n",
       "        text-align: right;\n",
       "    }\n",
       "</style>\n",
       "<table border=\"1\" class=\"dataframe\">\n",
       "  <thead>\n",
       "    <tr style=\"text-align: right;\">\n",
       "      <th></th>\n",
       "      <th>pos_id</th>\n",
       "      <th>pos_type</th>\n",
       "      <th>open_price</th>\n",
       "      <th>volume</th>\n",
       "      <th>volume_left</th>\n",
       "      <th>profit_grid</th>\n",
       "      <th>stop_grid</th>\n",
       "      <th>status</th>\n",
       "      <th>profit</th>\n",
       "    </tr>\n",
       "  </thead>\n",
       "  <tbody>\n",
       "    <tr>\n",
       "      <th>0</th>\n",
       "      <td>NaN</td>\n",
       "      <td>long</td>\n",
       "      <td>132</td>\n",
       "      <td>1</td>\n",
       "      <td>1</td>\n",
       "      <td>[[134, 60], [136, 100]]</td>\n",
       "      <td>[[130, 50], [127, 80], [125, 100]]</td>\n",
       "      <td>open</td>\n",
       "      <td>0</td>\n",
       "    </tr>\n",
       "    <tr>\n",
       "      <th>1</th>\n",
       "      <td>NaN</td>\n",
       "      <td>short</td>\n",
       "      <td>132</td>\n",
       "      <td>1</td>\n",
       "      <td>1</td>\n",
       "      <td>[[129, 60], [126, 100]]</td>\n",
       "      <td>[[134, 60], [135, 80], [136, 100]]</td>\n",
       "      <td>open</td>\n",
       "      <td>0</td>\n",
       "    </tr>\n",
       "  </tbody>\n",
       "</table>\n",
       "</div>"
      ],
      "text/plain": [
       "  pos_id pos_type open_price volume volume_left              profit_grid  \\\n",
       "0    NaN     long        132      1           1  [[134, 60], [136, 100]]   \n",
       "1    NaN    short        132      1           1  [[129, 60], [126, 100]]   \n",
       "\n",
       "                            stop_grid status profit  \n",
       "0  [[130, 50], [127, 80], [125, 100]]   open      0  \n",
       "1  [[134, 60], [135, 80], [136, 100]]   open      0  "
      ]
     },
     "execution_count": 328,
     "metadata": {},
     "output_type": "execute_result"
    }
   ],
   "source": [
    "df"
   ]
  },
  {
   "cell_type": "code",
   "execution_count": null,
   "id": "fcd0306b",
   "metadata": {},
   "outputs": [],
   "source": []
  },
  {
   "cell_type": "code",
   "execution_count": 329,
   "id": "40f18e3f",
   "metadata": {},
   "outputs": [],
   "source": [
    "def close_if_below(grid, current_price, i):\n",
    "\n",
    "        for k in range(len(df.loc[i][grid])):\n",
    "            stop_price = df.loc[i][grid][0]\n",
    "            \n",
    "            if stop_price[0] >= current_price:\n",
    "\n",
    "                if df.loc[i]['volume'] == df.loc[i]['volume_left']:\n",
    "                    stop_volume = df.loc[i]['volume']*stop_price[1]/100\n",
    "                else:\n",
    "                    stop_volume = df.loc[i]['volume_left']*stop_price[1]/100\n",
    "\n",
    "\n",
    "\n",
    "                df.at[i, 'volume_left'] = np.round(df.loc[i]['volume_left']-stop_volume, 2)\n",
    "                #close() - pass price and volume \n",
    "\n",
    "                #calculate profit\n",
    "                \n",
    "\n",
    "                if grid == \"profit_grid\":\n",
    "                    close_type = \"Take Profit\"\n",
    "                    df.at[i, 'profit'] = df.at[i, 'profit']-stop_volume*(current_price-df.loc[i]['open_price'])\n",
    "                else:\n",
    "                    close_type = \"Stop Loss\"\n",
    "                    df.at[i, 'profit'] = df.at[i, 'profit']+stop_volume*(current_price-df.loc[i]['open_price'])\n",
    "                \n",
    "                print('Type',close_type, 'Closed lot:', stop_volume, ' Price:', current_price, ' Profit:', df.at[i, 'profit'])\n",
    "\n",
    "                del df.loc[i][grid][0]\n",
    "                grid_len = len(df.loc[i][grid])\n",
    "                if df.at[i, 'volume_left'] == 0.0:\n",
    "                    df.at[i, 'status'] = 'closed'\n",
    "\n",
    "def close_if_above(grid, current_price, i):\n",
    "    \n",
    "        for k in range(len(df.loc[i][grid])):\n",
    "            stop_price = df.loc[i][grid][0]\n",
    "        \n",
    "            if stop_price[0] <= current_price:\n",
    "\n",
    "                if df.loc[i]['volume'] == df.loc[i]['volume_left']:\n",
    "                    stop_volume = df.loc[i]['volume']*stop_price[1]/100\n",
    "                else:\n",
    "                    stop_volume = df.loc[i]['volume_left']*stop_price[1]/100\n",
    "\n",
    "\n",
    "                df.at[i, 'volume_left'] = np.round(df.loc[i]['volume_left']-stop_volume, 2)\n",
    "                #close() - pass price and volume \n",
    "\n",
    "                #calculate profit\n",
    "                \n",
    "\n",
    "\n",
    "                if grid == \"profit_grid\":\n",
    "                    close_type = \"Take Profit\"\n",
    "                    df.at[i, 'profit'] = df.at[i, 'profit']+stop_volume*(current_price-df.loc[i]['open_price'])\n",
    "                else:\n",
    "                    close_type = \"Stop Loss\"\n",
    "                    df.at[i, 'profit'] = df.at[i, 'profit']-stop_volume*(current_price-df.loc[i]['open_price'])\n",
    "                    \n",
    "                    \n",
    "                print(close_type, 'Closed lot:', stop_volume, ' Price:', current_price, ' Profit:', df.at[i, 'profit'])\n",
    "    \n",
    "                del df.loc[i][grid][0]\n",
    "                grid_len = len(df.loc[i][grid])\n",
    "                if df.at[i, 'volume_left'] == 0.0:\n",
    "                    df.at[i, 'status'] = 'closed'\n",
    "\n",
    "def check_if_close(df, price):\n",
    "    open_poses = df.index[df['status']=='open'].tolist()\n",
    "    #pass grid type\n",
    "    for i in open_poses:\n",
    "        pos_type = df.loc[i]['pos_type']\n",
    "        match pos_type:\n",
    "                case 'long':\n",
    "                    close_if_below('stop_grid', price, i)\n",
    "                    close_if_above('profit_grid', price, i)\n",
    "                case 'short':\n",
    "                    close_if_below('profit_grid', price, i)\n",
    "                    close_if_above('stop_grid', price, i)\n"
   ]
  },
  {
   "cell_type": "code",
   "execution_count": 344,
   "id": "08164855",
   "metadata": {},
   "outputs": [],
   "source": [
    "def check_if_close(df, price):\n",
    "    open_poses = df.index[df['status']=='open'].tolist()\n",
    "    #pass grid type\n",
    "    for i in open_poses:\n",
    "        pos_type = df.loc[i]['pos_type']\n",
    "        match pos_type:\n",
    "                case 'long':\n",
    "                    close_if_below('stop_grid', price, i)\n",
    "                    close_if_above('profit_grid', price, i)\n",
    "                case 'short':\n",
    "                    close_if_below('profit_grid', price, i)\n",
    "                    close_if_above('stop_grid', price, i)\n",
    "price = 136\n",
    "check_if_close(df, price)"
   ]
  },
  {
   "cell_type": "code",
   "execution_count": 343,
   "id": "cf0f4734",
   "metadata": {},
   "outputs": [
    {
     "data": {
      "text/html": [
       "<div>\n",
       "<style scoped>\n",
       "    .dataframe tbody tr th:only-of-type {\n",
       "        vertical-align: middle;\n",
       "    }\n",
       "\n",
       "    .dataframe tbody tr th {\n",
       "        vertical-align: top;\n",
       "    }\n",
       "\n",
       "    .dataframe thead th {\n",
       "        text-align: right;\n",
       "    }\n",
       "</style>\n",
       "<table border=\"1\" class=\"dataframe\">\n",
       "  <thead>\n",
       "    <tr style=\"text-align: right;\">\n",
       "      <th></th>\n",
       "      <th>pos_id</th>\n",
       "      <th>pos_type</th>\n",
       "      <th>open_price</th>\n",
       "      <th>volume</th>\n",
       "      <th>volume_left</th>\n",
       "      <th>profit_grid</th>\n",
       "      <th>stop_grid</th>\n",
       "      <th>status</th>\n",
       "      <th>profit</th>\n",
       "    </tr>\n",
       "  </thead>\n",
       "  <tbody>\n",
       "    <tr>\n",
       "      <th>0</th>\n",
       "      <td>NaN</td>\n",
       "      <td>long</td>\n",
       "      <td>132</td>\n",
       "      <td>1</td>\n",
       "      <td>0.0</td>\n",
       "      <td>[]</td>\n",
       "      <td>[[125, 100]]</td>\n",
       "      <td>closed</td>\n",
       "      <td>-3.62</td>\n",
       "    </tr>\n",
       "    <tr>\n",
       "      <th>1</th>\n",
       "      <td>NaN</td>\n",
       "      <td>short</td>\n",
       "      <td>132</td>\n",
       "      <td>1</td>\n",
       "      <td>0.0</td>\n",
       "      <td>[]</td>\n",
       "      <td>[[134, 60], [135, 80], [136, 100]]</td>\n",
       "      <td>closed</td>\n",
       "      <td>4.2</td>\n",
       "    </tr>\n",
       "  </tbody>\n",
       "</table>\n",
       "</div>"
      ],
      "text/plain": [
       "  pos_id pos_type open_price volume volume_left profit_grid  \\\n",
       "0    NaN     long        132      1         0.0          []   \n",
       "1    NaN    short        132      1         0.0          []   \n",
       "\n",
       "                            stop_grid  status profit  \n",
       "0                        [[125, 100]]  closed  -3.62  \n",
       "1  [[134, 60], [135, 80], [136, 100]]  closed    4.2  "
      ]
     },
     "execution_count": 343,
     "metadata": {},
     "output_type": "execute_result"
    }
   ],
   "source": [
    "df"
   ]
  },
  {
   "cell_type": "code",
   "execution_count": 237,
   "id": "38ac0a0a",
   "metadata": {},
   "outputs": [
    {
     "data": {
      "text/html": [
       "<div>\n",
       "<style scoped>\n",
       "    .dataframe tbody tr th:only-of-type {\n",
       "        vertical-align: middle;\n",
       "    }\n",
       "\n",
       "    .dataframe tbody tr th {\n",
       "        vertical-align: top;\n",
       "    }\n",
       "\n",
       "    .dataframe thead th {\n",
       "        text-align: right;\n",
       "    }\n",
       "</style>\n",
       "<table border=\"1\" class=\"dataframe\">\n",
       "  <thead>\n",
       "    <tr style=\"text-align: right;\">\n",
       "      <th></th>\n",
       "      <th>pos_id</th>\n",
       "      <th>pos_type</th>\n",
       "      <th>open_price</th>\n",
       "      <th>volume</th>\n",
       "      <th>volume_left</th>\n",
       "      <th>profit_grid</th>\n",
       "      <th>stop_grid</th>\n",
       "      <th>status</th>\n",
       "      <th>profit</th>\n",
       "    </tr>\n",
       "  </thead>\n",
       "  <tbody>\n",
       "  </tbody>\n",
       "</table>\n",
       "</div>"
      ],
      "text/plain": [
       "Empty DataFrame\n",
       "Columns: [pos_id, pos_type, open_price, volume, volume_left, profit_grid, stop_grid, status, profit]\n",
       "Index: []"
      ]
     },
     "execution_count": 237,
     "metadata": {},
     "output_type": "execute_result"
    }
   ],
   "source": [
    "df"
   ]
  },
  {
   "cell_type": "code",
   "execution_count": null,
   "id": "c45bfd5e",
   "metadata": {
    "scrolled": true
   },
   "outputs": [],
   "source": [
    "open_poses = df.index[df['status']=='open'].tolist()\n",
    "current_price = 132\n",
    "\n",
    "def check_if_close(df):\n",
    "    open_poses = df.index[df['status']=='open'].tolist()\n",
    "    \n",
    "    #pass grid type\n",
    "    stop_g = 'stop_grid'\n",
    "    prof_g = 'profit_grid'\n",
    "    \n",
    "    for grid in [stop_g, prof_g]:\n",
    "    \n",
    "        for i in open_poses:\n",
    "            stop_price = df.loc[i][grid][0]\n",
    "            print(stop_price[0])\n",
    "            vol = copy.copy(df.loc[i]['volume'])\n",
    "            if stop_price[0] >= current_price:\n",
    "                print('close')\n",
    "                stop_volume = df.loc[i]['volume']*stop_price[1]/100\n",
    "                print('stop_volume', stop_volume)\n",
    "\n",
    "                df.at[i, 'volume_left'] = np.round(df.loc[i]['volume_left']-stop_volume, 2)\n",
    "                #close() - pass price and volume \n",
    "\n",
    "                #calculate profit\n",
    "                df.at[i, 'profit'] = df.at[i, 'profit']+stop_volume*(current_price-df.loc[i]['open_price'])\n",
    "\n",
    "                del df.loc[i][grid][0]\n",
    "                if df.at[i, 'volume_left'] == 0.0:\n",
    "                    df.at[i, 'status'] = 'closed'\n",
    "                print(df)\n",
    "            \n",
    "check_if_close(df)"
   ]
  },
  {
   "cell_type": "code",
   "execution_count": 7,
   "id": "1ac4d55c",
   "metadata": {},
   "outputs": [
    {
     "data": {
      "text/html": [
       "<div>\n",
       "<style scoped>\n",
       "    .dataframe tbody tr th:only-of-type {\n",
       "        vertical-align: middle;\n",
       "    }\n",
       "\n",
       "    .dataframe tbody tr th {\n",
       "        vertical-align: top;\n",
       "    }\n",
       "\n",
       "    .dataframe thead th {\n",
       "        text-align: right;\n",
       "    }\n",
       "</style>\n",
       "<table border=\"1\" class=\"dataframe\">\n",
       "  <thead>\n",
       "    <tr style=\"text-align: right;\">\n",
       "      <th></th>\n",
       "      <th>pos_type</th>\n",
       "      <th>open_price</th>\n",
       "      <th>volume</th>\n",
       "      <th>volume_left</th>\n",
       "      <th>profit_grid</th>\n",
       "      <th>stop_grid</th>\n",
       "      <th>status</th>\n",
       "      <th>profit</th>\n",
       "    </tr>\n",
       "  </thead>\n",
       "  <tbody>\n",
       "    <tr>\n",
       "      <th>0</th>\n",
       "      <td>long</td>\n",
       "      <td>132</td>\n",
       "      <td>1</td>\n",
       "      <td>1</td>\n",
       "      <td>[[135, 100]]</td>\n",
       "      <td>[[128, 100]]</td>\n",
       "      <td>open</td>\n",
       "      <td>0</td>\n",
       "    </tr>\n",
       "    <tr>\n",
       "      <th>1</th>\n",
       "      <td>long</td>\n",
       "      <td>132</td>\n",
       "      <td>5</td>\n",
       "      <td>5</td>\n",
       "      <td>[[134, 60], [136, 40]]</td>\n",
       "      <td>[[130, 60], [127, 40]]</td>\n",
       "      <td>closed</td>\n",
       "      <td>0</td>\n",
       "    </tr>\n",
       "    <tr>\n",
       "      <th>2</th>\n",
       "      <td>long</td>\n",
       "      <td>132</td>\n",
       "      <td>2</td>\n",
       "      <td>2</td>\n",
       "      <td>[[134, 60], [135, 40]]</td>\n",
       "      <td>[[131, 60], [127, 40]]</td>\n",
       "      <td>open</td>\n",
       "      <td>0</td>\n",
       "    </tr>\n",
       "  </tbody>\n",
       "</table>\n",
       "</div>"
      ],
      "text/plain": [
       "  pos_type  open_price  volume  volume_left             profit_grid  \\\n",
       "0     long         132       1            1            [[135, 100]]   \n",
       "1     long         132       5            5  [[134, 60], [136, 40]]   \n",
       "2     long         132       2            2  [[134, 60], [135, 40]]   \n",
       "\n",
       "                stop_grid  status  profit  \n",
       "0            [[128, 100]]    open       0  \n",
       "1  [[130, 60], [127, 40]]  closed       0  \n",
       "2  [[131, 60], [127, 40]]    open       0  "
      ]
     },
     "execution_count": 7,
     "metadata": {},
     "output_type": "execute_result"
    }
   ],
   "source": []
  },
  {
   "cell_type": "code",
   "execution_count": null,
   "id": "2a3b6c1d",
   "metadata": {},
   "outputs": [],
   "source": []
  },
  {
   "cell_type": "code",
   "execution_count": null,
   "id": "dfbf9f93",
   "metadata": {},
   "outputs": [],
   "source": [
    "df.at[1, 'volume_left'] = 2"
   ]
  },
  {
   "cell_type": "code",
   "execution_count": null,
   "id": "a3fe427f",
   "metadata": {},
   "outputs": [],
   "source": [
    "df"
   ]
  },
  {
   "cell_type": "code",
   "execution_count": null,
   "id": "4dda78d5",
   "metadata": {},
   "outputs": [],
   "source": [
    "price = 132\n",
    "a = df[df['pos_id']==124]['stop_grid'].tolist()[0]"
   ]
  },
  {
   "cell_type": "code",
   "execution_count": null,
   "id": "51ed990f",
   "metadata": {},
   "outputs": [],
   "source": [
    "if a[0] < price:\n",
    "    \n",
    "    df.loc[df['pos_id']==124, 'status'] = ['closed']\n",
    "df"
   ]
  },
  {
   "cell_type": "code",
   "execution_count": null,
   "id": "46eebf08",
   "metadata": {},
   "outputs": [],
   "source": [
    "df.loc[df['pos_id'] == 124]"
   ]
  },
  {
   "cell_type": "code",
   "execution_count": null,
   "id": "42128eaa",
   "metadata": {},
   "outputs": [],
   "source": [
    "df"
   ]
  },
  {
   "cell_type": "code",
   "execution_count": null,
   "id": "53b44d25",
   "metadata": {},
   "outputs": [],
   "source": [
    "a = 1.325345634"
   ]
  },
  {
   "cell_type": "code",
   "execution_count": null,
   "id": "4da53056",
   "metadata": {},
   "outputs": [],
   "source": [
    "np.round(a,2)"
   ]
  },
  {
   "cell_type": "code",
   "execution_count": 198,
   "id": "c175f7e7",
   "metadata": {},
   "outputs": [
    {
     "ename": "IndexError",
     "evalue": "list index out of range",
     "output_type": "error",
     "traceback": [
      "\u001b[1;31m---------------------------------------------------------------------------\u001b[0m",
      "\u001b[1;31mIndexError\u001b[0m                                Traceback (most recent call last)",
      "Input \u001b[1;32mIn [198]\u001b[0m, in \u001b[0;36m<cell line: 2>\u001b[1;34m()\u001b[0m\n\u001b[0;32m      1\u001b[0m a\u001b[38;5;241m=\u001b[39m[]\n\u001b[1;32m----> 2\u001b[0m \u001b[38;5;28mprint\u001b[39m(\u001b[43ma\u001b[49m\u001b[43m[\u001b[49m\u001b[38;5;241;43m0\u001b[39;49m\u001b[43m]\u001b[49m)\n\u001b[0;32m      3\u001b[0m \u001b[38;5;28;01mfor\u001b[39;00m i \u001b[38;5;129;01min\u001b[39;00m \u001b[38;5;28mrange\u001b[39m(\u001b[38;5;241m0\u001b[39m):\n\u001b[0;32m      4\u001b[0m     \u001b[38;5;28mprint\u001b[39m(i)\n",
      "\u001b[1;31mIndexError\u001b[0m: list index out of range"
     ]
    }
   ],
   "source": [
    "a=[]\n",
    "print(a[0])\n",
    "for i in range(0):\n",
    "    print(i)"
   ]
  },
  {
   "cell_type": "code",
   "execution_count": null,
   "id": "2cc8d0d9",
   "metadata": {},
   "outputs": [],
   "source": []
  }
 ],
 "metadata": {
  "kernelspec": {
   "display_name": "Python 3 (ipykernel)",
   "language": "python",
   "name": "python3"
  },
  "language_info": {
   "codemirror_mode": {
    "name": "ipython",
    "version": 3
   },
   "file_extension": ".py",
   "mimetype": "text/x-python",
   "name": "python",
   "nbconvert_exporter": "python",
   "pygments_lexer": "ipython3",
   "version": "3.10.5"
  }
 },
 "nbformat": 4,
 "nbformat_minor": 5
}
