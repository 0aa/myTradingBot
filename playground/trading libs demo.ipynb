{
 "cells": [
  {
   "cell_type": "code",
   "execution_count": 14,
   "id": "21823f52",
   "metadata": {},
   "outputs": [],
   "source": [
    "import numpy as np\n",
    "import pandas as pd\n",
    "from finta import TA\n",
    "import matplotlib.pyplot as plt"
   ]
  },
  {
   "cell_type": "code",
   "execution_count": 4,
   "id": "9dfe6290",
   "metadata": {},
   "outputs": [
    {
     "data": {
      "text/html": [
       "<div>\n",
       "<style scoped>\n",
       "    .dataframe tbody tr th:only-of-type {\n",
       "        vertical-align: middle;\n",
       "    }\n",
       "\n",
       "    .dataframe tbody tr th {\n",
       "        vertical-align: top;\n",
       "    }\n",
       "\n",
       "    .dataframe thead th {\n",
       "        text-align: right;\n",
       "    }\n",
       "</style>\n",
       "<table border=\"1\" class=\"dataframe\">\n",
       "  <thead>\n",
       "    <tr style=\"text-align: right;\">\n",
       "      <th></th>\n",
       "      <th>timestamp</th>\n",
       "      <th>open</th>\n",
       "      <th>high</th>\n",
       "      <th>low</th>\n",
       "      <th>close</th>\n",
       "      <th>volume</th>\n",
       "    </tr>\n",
       "  </thead>\n",
       "  <tbody>\n",
       "    <tr>\n",
       "      <th>0</th>\n",
       "      <td>2022-07-10 16:20:00</td>\n",
       "      <td>1159.94</td>\n",
       "      <td>1160.71</td>\n",
       "      <td>1158.32</td>\n",
       "      <td>1160.36</td>\n",
       "      <td>2502</td>\n",
       "    </tr>\n",
       "    <tr>\n",
       "      <th>1</th>\n",
       "      <td>2022-07-10 16:15:00</td>\n",
       "      <td>1157.08</td>\n",
       "      <td>1160.69</td>\n",
       "      <td>1156.14</td>\n",
       "      <td>1159.94</td>\n",
       "      <td>4039</td>\n",
       "    </tr>\n",
       "    <tr>\n",
       "      <th>2</th>\n",
       "      <td>2022-07-10 16:10:00</td>\n",
       "      <td>1161.99</td>\n",
       "      <td>1162.00</td>\n",
       "      <td>1153.00</td>\n",
       "      <td>1157.08</td>\n",
       "      <td>13292</td>\n",
       "    </tr>\n",
       "    <tr>\n",
       "      <th>3</th>\n",
       "      <td>2022-07-10 16:05:00</td>\n",
       "      <td>1165.28</td>\n",
       "      <td>1165.68</td>\n",
       "      <td>1160.55</td>\n",
       "      <td>1162.00</td>\n",
       "      <td>5470</td>\n",
       "    </tr>\n",
       "    <tr>\n",
       "      <th>4</th>\n",
       "      <td>2022-07-10 16:00:00</td>\n",
       "      <td>1163.59</td>\n",
       "      <td>1166.51</td>\n",
       "      <td>1161.82</td>\n",
       "      <td>1165.28</td>\n",
       "      <td>8293</td>\n",
       "    </tr>\n",
       "    <tr>\n",
       "      <th>...</th>\n",
       "      <td>...</td>\n",
       "      <td>...</td>\n",
       "      <td>...</td>\n",
       "      <td>...</td>\n",
       "      <td>...</td>\n",
       "      <td>...</td>\n",
       "    </tr>\n",
       "    <tr>\n",
       "      <th>995</th>\n",
       "      <td>2022-07-07 05:25:00</td>\n",
       "      <td>1171.96</td>\n",
       "      <td>1173.12</td>\n",
       "      <td>1169.08</td>\n",
       "      <td>1169.92</td>\n",
       "      <td>2632</td>\n",
       "    </tr>\n",
       "    <tr>\n",
       "      <th>996</th>\n",
       "      <td>2022-07-07 05:20:00</td>\n",
       "      <td>1173.38</td>\n",
       "      <td>1173.72</td>\n",
       "      <td>1171.00</td>\n",
       "      <td>1171.96</td>\n",
       "      <td>2241</td>\n",
       "    </tr>\n",
       "    <tr>\n",
       "      <th>997</th>\n",
       "      <td>2022-07-07 05:15:00</td>\n",
       "      <td>1174.98</td>\n",
       "      <td>1175.05</td>\n",
       "      <td>1173.11</td>\n",
       "      <td>1173.37</td>\n",
       "      <td>1362</td>\n",
       "    </tr>\n",
       "    <tr>\n",
       "      <th>998</th>\n",
       "      <td>2022-07-07 05:10:00</td>\n",
       "      <td>1172.58</td>\n",
       "      <td>1175.10</td>\n",
       "      <td>1172.08</td>\n",
       "      <td>1174.99</td>\n",
       "      <td>2135</td>\n",
       "    </tr>\n",
       "    <tr>\n",
       "      <th>999</th>\n",
       "      <td>2022-07-07 05:05:00</td>\n",
       "      <td>1172.39</td>\n",
       "      <td>1172.70</td>\n",
       "      <td>1171.41</td>\n",
       "      <td>1172.64</td>\n",
       "      <td>1430</td>\n",
       "    </tr>\n",
       "  </tbody>\n",
       "</table>\n",
       "<p>1000 rows × 6 columns</p>\n",
       "</div>"
      ],
      "text/plain": [
       "               timestamp     open     high      low    close  volume\n",
       "0    2022-07-10 16:20:00  1159.94  1160.71  1158.32  1160.36    2502\n",
       "1    2022-07-10 16:15:00  1157.08  1160.69  1156.14  1159.94    4039\n",
       "2    2022-07-10 16:10:00  1161.99  1162.00  1153.00  1157.08   13292\n",
       "3    2022-07-10 16:05:00  1165.28  1165.68  1160.55  1162.00    5470\n",
       "4    2022-07-10 16:00:00  1163.59  1166.51  1161.82  1165.28    8293\n",
       "..                   ...      ...      ...      ...      ...     ...\n",
       "995  2022-07-07 05:25:00  1171.96  1173.12  1169.08  1169.92    2632\n",
       "996  2022-07-07 05:20:00  1173.38  1173.72  1171.00  1171.96    2241\n",
       "997  2022-07-07 05:15:00  1174.98  1175.05  1173.11  1173.37    1362\n",
       "998  2022-07-07 05:10:00  1172.58  1175.10  1172.08  1174.99    2135\n",
       "999  2022-07-07 05:05:00  1172.39  1172.70  1171.41  1172.64    1430\n",
       "\n",
       "[1000 rows x 6 columns]"
      ]
     },
     "execution_count": 4,
     "metadata": {},
     "output_type": "execute_result"
    }
   ],
   "source": [
    "apiKey='HO0PUVKW0S8C5V0D' # добавьте ключ API\n",
    "\n",
    "interval_var = '5min'\n",
    "symbol='ETH'\n",
    "\n",
    "path='https://www.alphavantage.co/query?function=CRYPTO_INTRADAY&symbol='+symbol+'&market=USD&interval='+interval_var+'&apikey='+apiKey+'&datatype=csv&outputsize=full'\n",
    "df = pd.read_csv(path)\n",
    "df"
   ]
  },
  {
   "cell_type": "code",
   "execution_count": 7,
   "id": "192e9292",
   "metadata": {},
   "outputs": [
    {
     "data": {
      "text/plain": [
       "0      2.39\n",
       "1      4.55\n",
       "2      9.00\n",
       "3      8.60\n",
       "4      4.69\n",
       "       ... \n",
       "995    4.04\n",
       "996    3.80\n",
       "997    3.09\n",
       "998    3.02\n",
       "999    3.58\n",
       "Name: TR, Length: 1000, dtype: float64"
      ]
     },
     "execution_count": 7,
     "metadata": {},
     "output_type": "execute_result"
    }
   ],
   "source": [
    "TA.TR(df)"
   ]
  },
  {
   "cell_type": "code",
   "execution_count": 9,
   "id": "0ddcc4fb",
   "metadata": {},
   "outputs": [
    {
     "data": {
      "text/plain": [
       "0         NaN\n",
       "1         NaN\n",
       "2         NaN\n",
       "3         NaN\n",
       "4         NaN\n",
       "        ...  \n",
       "995    3.4145\n",
       "996    3.4225\n",
       "997    3.4550\n",
       "998    3.4270\n",
       "999    3.4250\n",
       "Name: 20 period ATR, Length: 1000, dtype: float64"
      ]
     },
     "execution_count": 9,
     "metadata": {},
     "output_type": "execute_result"
    }
   ],
   "source": [
    "TA.ATR(df, 20)"
   ]
  },
  {
   "cell_type": "code",
   "execution_count": 10,
   "id": "cdb6b72a",
   "metadata": {},
   "outputs": [
    {
     "data": {
      "text/plain": [
       "0        879.364017\n",
       "1       5956.964017\n",
       "2      -8546.084872\n",
       "3     -15540.860701\n",
       "4      -9564.242364\n",
       "           ...     \n",
       "995    41789.459476\n",
       "996    39449.591829\n",
       "997    37188.952654\n",
       "998    40596.469210\n",
       "999    41150.732776\n",
       "Name: VPT, Length: 1000, dtype: float64"
      ]
     },
     "execution_count": 10,
     "metadata": {},
     "output_type": "execute_result"
    }
   ],
   "source": [
    "TA.VPT(df)"
   ]
  },
  {
   "cell_type": "code",
   "execution_count": 11,
   "id": "cc959128",
   "metadata": {},
   "outputs": [
    {
     "data": {
      "text/html": [
       "<div>\n",
       "<style scoped>\n",
       "    .dataframe tbody tr th:only-of-type {\n",
       "        vertical-align: middle;\n",
       "    }\n",
       "\n",
       "    .dataframe tbody tr th {\n",
       "        vertical-align: top;\n",
       "    }\n",
       "\n",
       "    .dataframe thead th {\n",
       "        text-align: right;\n",
       "    }\n",
       "</style>\n",
       "<table border=\"1\" class=\"dataframe\">\n",
       "  <thead>\n",
       "    <tr style=\"text-align: right;\">\n",
       "      <th></th>\n",
       "      <th>BB_UPPER</th>\n",
       "      <th>BB_MIDDLE</th>\n",
       "      <th>BB_LOWER</th>\n",
       "    </tr>\n",
       "  </thead>\n",
       "  <tbody>\n",
       "    <tr>\n",
       "      <th>0</th>\n",
       "      <td>NaN</td>\n",
       "      <td>NaN</td>\n",
       "      <td>NaN</td>\n",
       "    </tr>\n",
       "    <tr>\n",
       "      <th>1</th>\n",
       "      <td>NaN</td>\n",
       "      <td>NaN</td>\n",
       "      <td>NaN</td>\n",
       "    </tr>\n",
       "    <tr>\n",
       "      <th>2</th>\n",
       "      <td>NaN</td>\n",
       "      <td>NaN</td>\n",
       "      <td>NaN</td>\n",
       "    </tr>\n",
       "    <tr>\n",
       "      <th>3</th>\n",
       "      <td>NaN</td>\n",
       "      <td>NaN</td>\n",
       "      <td>NaN</td>\n",
       "    </tr>\n",
       "    <tr>\n",
       "      <th>4</th>\n",
       "      <td>NaN</td>\n",
       "      <td>NaN</td>\n",
       "      <td>NaN</td>\n",
       "    </tr>\n",
       "    <tr>\n",
       "      <th>...</th>\n",
       "      <td>...</td>\n",
       "      <td>...</td>\n",
       "      <td>...</td>\n",
       "    </tr>\n",
       "    <tr>\n",
       "      <th>995</th>\n",
       "      <td>1172.263785</td>\n",
       "      <td>1168.2165</td>\n",
       "      <td>1164.169215</td>\n",
       "    </tr>\n",
       "    <tr>\n",
       "      <th>996</th>\n",
       "      <td>1172.652619</td>\n",
       "      <td>1168.3235</td>\n",
       "      <td>1163.994381</td>\n",
       "    </tr>\n",
       "    <tr>\n",
       "      <th>997</th>\n",
       "      <td>1173.433515</td>\n",
       "      <td>1168.5515</td>\n",
       "      <td>1163.669485</td>\n",
       "    </tr>\n",
       "    <tr>\n",
       "      <th>998</th>\n",
       "      <td>1174.532991</td>\n",
       "      <td>1168.8635</td>\n",
       "      <td>1163.194009</td>\n",
       "    </tr>\n",
       "    <tr>\n",
       "      <th>999</th>\n",
       "      <td>1174.896528</td>\n",
       "      <td>1169.2210</td>\n",
       "      <td>1163.545472</td>\n",
       "    </tr>\n",
       "  </tbody>\n",
       "</table>\n",
       "<p>1000 rows × 3 columns</p>\n",
       "</div>"
      ],
      "text/plain": [
       "        BB_UPPER  BB_MIDDLE     BB_LOWER\n",
       "0            NaN        NaN          NaN\n",
       "1            NaN        NaN          NaN\n",
       "2            NaN        NaN          NaN\n",
       "3            NaN        NaN          NaN\n",
       "4            NaN        NaN          NaN\n",
       "..           ...        ...          ...\n",
       "995  1172.263785  1168.2165  1164.169215\n",
       "996  1172.652619  1168.3235  1163.994381\n",
       "997  1173.433515  1168.5515  1163.669485\n",
       "998  1174.532991  1168.8635  1163.194009\n",
       "999  1174.896528  1169.2210  1163.545472\n",
       "\n",
       "[1000 rows x 3 columns]"
      ]
     },
     "execution_count": 11,
     "metadata": {},
     "output_type": "execute_result"
    }
   ],
   "source": [
    "TA.BBANDS(df)"
   ]
  },
  {
   "cell_type": "code",
   "execution_count": 12,
   "id": "4d108648",
   "metadata": {},
   "outputs": [
    {
     "data": {
      "text/plain": [
       "0           NaN\n",
       "1           NaN\n",
       "2           NaN\n",
       "3           NaN\n",
       "4           NaN\n",
       "         ...   \n",
       "995    0.006929\n",
       "996    0.007411\n",
       "997    0.008356\n",
       "998    0.009701\n",
       "999    0.009708\n",
       "Name: 20 period BBWITH, Length: 1000, dtype: float64"
      ]
     },
     "execution_count": 12,
     "metadata": {},
     "output_type": "execute_result"
    }
   ],
   "source": [
    "TA.BBWIDTH(df)"
   ]
  },
  {
   "cell_type": "code",
   "execution_count": null,
   "id": "a6473295",
   "metadata": {},
   "outputs": [],
   "source": []
  },
  {
   "cell_type": "code",
   "execution_count": null,
   "id": "f8e994a7",
   "metadata": {},
   "outputs": [],
   "source": []
  }
 ],
 "metadata": {
  "kernelspec": {
   "display_name": "Python 3 (ipykernel)",
   "language": "python",
   "name": "python3"
  },
  "language_info": {
   "codemirror_mode": {
    "name": "ipython",
    "version": 3
   },
   "file_extension": ".py",
   "mimetype": "text/x-python",
   "name": "python",
   "nbconvert_exporter": "python",
   "pygments_lexer": "ipython3",
   "version": "3.10.5"
  }
 },
 "nbformat": 4,
 "nbformat_minor": 5
}
